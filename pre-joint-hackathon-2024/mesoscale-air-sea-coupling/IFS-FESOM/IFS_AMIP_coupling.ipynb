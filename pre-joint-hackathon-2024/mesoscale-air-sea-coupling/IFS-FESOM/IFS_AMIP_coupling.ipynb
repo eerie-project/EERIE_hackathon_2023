{
 "cells": [
  {
   "cell_type": "raw",
   "id": "9c2c3b14-d540-49a9-bc00-3e5bede6fe66",
   "metadata": {},
   "source": [
    "SST vs wind/stress magnitude\n",
    "downwind SST gradient (winds) vs wind divergence"
   ]
  },
  {
   "cell_type": "markdown",
   "id": "f138171c-0b42-42b3-b713-a87b66757345",
   "metadata": {},
   "source": [
    "# Coupling coefficients for IFS-AMIP"
   ]
  },
  {
   "cell_type": "code",
   "execution_count": 1,
   "id": "23bfb3a3-a7b7-4969-83f1-8695ace265a3",
   "metadata": {
    "tags": []
   },
   "outputs": [],
   "source": [
    "import xarray as xr\n",
    "import pandas as pd\n",
    "import numpy as np\n",
    "import intake\n",
    "\n",
    "import cartopy.crs as ccrs\n",
    "import matplotlib.pyplot as plt\n",
    "import matplotlib.cm as cm\n",
    "import cmocean.cm as cmo\n",
    "import seaborn as sns\n",
    "\n",
    "from datetime import datetime\n",
    "\n",
    "from dask.diagnostics import ProgressBar"
   ]
  },
  {
   "cell_type": "code",
   "execution_count": 2,
   "id": "1cb31165-c05f-4f2f-b7e2-b6ddcf35cf8a",
   "metadata": {
    "tags": []
   },
   "outputs": [
    {
     "name": "stdout",
     "output_type": "stream",
     "text": [
      "/home/b/b382473\n"
     ]
    }
   ],
   "source": [
    "cd"
   ]
  },
  {
   "cell_type": "code",
   "execution_count": 3,
   "id": "481aa9c0-c6d6-4e9b-8a10-4fecc90a572f",
   "metadata": {
    "tags": []
   },
   "outputs": [],
   "source": [
    "import geostats as gs"
   ]
  },
  {
   "cell_type": "code",
   "execution_count": 4,
   "id": "0dfd27dd-f445-466d-9c6a-591eeb83f64c",
   "metadata": {
    "tags": []
   },
   "outputs": [],
   "source": [
    "import iris\n",
    "import iris.analysis as ia"
   ]
  },
  {
   "cell_type": "code",
   "execution_count": 5,
   "id": "c81ca87b-e1f9-464a-9f5f-a4b11e595624",
   "metadata": {
    "tags": []
   },
   "outputs": [],
   "source": [
    "def ifs_to_latlon(ds):\n",
    "    '''\n",
    "    Uses the latitude-longitude information encoded in the regular grid IFS output to reconstructed the regular grid\n",
    "    '''\n",
    "    return ds.rename({'value':'latlon'}).set_index(latlon=(\"lat\",\"lon\")).unstack(\"latlon\")\n",
    "def ifs_fix_time_for_monthly_data(ds):\n",
    "    '''\n",
    "    Monthly mean data has the time axis encoded incorrectly.\n",
    "    This function shifts it back by one day\n",
    "    '''\n",
    "    return ds.assign_coords(time=ds['time']- pd.Timedelta('1D'))\n",
    "\n",
    "def get_area(da,mask=False):\n",
    "    print('Computing grid-box area')\n",
    "    import iris.analysis as ia\n",
    "    if 'time' in da.dims:\n",
    "        da = da.isel(time=0).drop('time')\n",
    "    d = da.to_iris()\n",
    "    d.coord('longitude').guess_bounds()\n",
    "    d.coord('latitude').guess_bounds()\n",
    "\n",
    "    area_weights = ia.cartography.area_weights(d)\n",
    "    area = xr.ones_like(da) * area_weights\n",
    "    if mask:\n",
    "        area = area.where(~np.isnan(da))\n",
    "    area = area.rename('area').load()\n",
    "    area.attrs['long_name'] = 'grid_box_area'\n",
    "    area.attrs['units'] = 'm^2'\n",
    "    return area\n",
    "\n",
    "def print_var(ds,filt=None):\n",
    "    '''\n",
    "    Print variables (varname,name) in Dataset. \n",
    "    If <filt> is provided, print only those where <filt> is present in the <name> attribute (ds[shortname].attrs['name'])\n",
    "\n",
    "    Usage: print_var(ds,'wind')\n",
    "    Output: printout of variables in ds whose name (long name in attributes, not short name to access) contains 'wind', e.g.\n",
    "        10si  :   10 metre wind speed\n",
    "        10u  :   10 metre U wind component\n",
    "        10v  :   10 metre V wind component\n",
    "    '''\n",
    "    if filt:\n",
    "        [print('%10s  :   %s' % (d,ds[d].attrs['name'])) for d in ds if filt.lower() in ds[d].attrs['name'].lower()]\n",
    "    else:\n",
    "        [print('%10s  :   %s' % (d,ds[d].attrs['name'])) for d in ds]"
   ]
  },
  {
   "cell_type": "markdown",
   "id": "24c10e55-8e6d-4b15-9275-7b7e0c0871be",
   "metadata": {},
   "source": [
    "## Open and inspect the catalogue"
   ]
  },
  {
   "cell_type": "code",
   "execution_count": 18,
   "id": "3b555650-23b6-4e24-abc3-e2bfd5e456a1",
   "metadata": {
    "tags": []
   },
   "outputs": [],
   "source": [
    "cat = intake.open_catalog('https://raw.githubusercontent.com/eerie-project/intake_catalogues/main/eerie.yaml')\\\n",
    "                          ['dkrz']['disk']['model-output']['ifs-amip']"
   ]
  },
  {
   "cell_type": "code",
   "execution_count": 19,
   "id": "7b8fe459-64e6-4b5a-ace1-4b8baaf2f401",
   "metadata": {
    "tags": []
   },
   "outputs": [
    {
     "data": {
      "text/plain": [
       "['amip-hist-obs.atmos.gr025',\n",
       " 'amip-hist-obs-lr30.atmos.gr025',\n",
       " 'amip-hist-obs-c-lr30-a-0.atmos.gr025',\n",
       " 'amip-hist-obs-c-lr30-a-lr30.atmos.gr025',\n",
       " 'amip-ng-obs.atmos.gr025',\n",
       " 'amip-ng-obs-lr30.atmos.gr025',\n",
       " 'amip-hist-esav3.atmos.gr025',\n",
       " 'amip-hist-esav3-c-0-a-lr30.atmos.gr025']"
      ]
     },
     "execution_count": 19,
     "metadata": {},
     "output_type": "execute_result"
    }
   ],
   "source": [
    "list(cat)"
   ]
  },
  {
   "cell_type": "code",
   "execution_count": 8,
   "id": "0a4c3496-91e7-4bf0-a3a9-4df366ad4e44",
   "metadata": {
    "tags": []
   },
   "outputs": [],
   "source": [
    "run = 'amip-hist-obs'\n",
    "\n",
    "ds_2d_6h_nat = cat[run + '.atmos.gr025']['2D_6h_native'].to_dask()\n",
    "ds_2d_6h_025 = ifs_to_latlon(cat[run + '.atmos.gr025']['2D_6h_0.25deg'].to_dask())"
   ]
  },
  {
   "cell_type": "markdown",
   "id": "d86ee352-fb2c-41a0-8517-5e42f1f61f09",
   "metadata": {},
   "source": [
    "## Compute and write out daily mean surface winds on native grid: necessary to compute surface wind divergence"
   ]
  },
  {
   "cell_type": "code",
   "execution_count": 127,
   "id": "05b4c5d6-686f-4af1-819e-bc3d7a7af523",
   "metadata": {
    "collapsed": true,
    "jupyter": {
     "outputs_hidden": true
    },
    "tags": []
   },
   "outputs": [
    {
     "name": "stdout",
     "output_type": "stream",
     "text": [
      "2010 1\n",
      "2010 2\n",
      "2010 3\n",
      "2010 4\n",
      "2010 5\n",
      "2010 6\n",
      "2010 7\n",
      "2010 8\n",
      "2010 9\n",
      "2010 10\n",
      "2010 11\n",
      "2010 12\n",
      "2011 1\n",
      "2011 2\n",
      "2011 3\n",
      "2011 4\n",
      "2011 5\n",
      "2011 6\n",
      "2011 7\n",
      "2011 8\n",
      "2011 9\n",
      "2011 10\n",
      "2011 11\n",
      "2011 12\n",
      "2012 1\n",
      "2012 2\n",
      "2012 3\n",
      "2012 4\n",
      "2012 5\n",
      "2012 6\n",
      "2012 7\n",
      "2012 8\n",
      "2012 9\n",
      "2012 10\n",
      "2012 11\n",
      "2012 12\n",
      "2013 1\n",
      "2013 2\n",
      "2013 3\n",
      "2013 4\n",
      "2013 5\n",
      "2013 6\n",
      "2013 7\n",
      "2013 8\n",
      "2013 9\n",
      "2013 10\n",
      "2013 11\n",
      "2013 12\n",
      "2014 1\n",
      "2014 2\n",
      "2014 3\n",
      "2014 4\n",
      "2014 5\n",
      "2014 6\n",
      "2014 7\n",
      "2014 8\n",
      "2014 9\n",
      "2014 10\n",
      "2014 11\n",
      "2014 12\n",
      "2015 1\n",
      "2015 2\n",
      "2015 3\n",
      "2015 4\n",
      "2015 5\n",
      "2015 6\n",
      "2015 7\n",
      "2015 8\n",
      "2015 9\n",
      "2015 10\n",
      "2015 11\n",
      "2015 12\n",
      "2016 1\n",
      "2016 2\n",
      "2016 3\n",
      "2016 4\n",
      "2016 5\n",
      "2016 6\n",
      "2016 7\n",
      "2016 8\n",
      "2016 9\n",
      "2016 10\n",
      "2016 11\n",
      "2016 12\n",
      "2017 1\n",
      "2017 2\n",
      "2017 3\n",
      "2017 4\n",
      "2017 5\n",
      "2017 6\n",
      "2017 7\n",
      "2017 8\n",
      "2017 9\n",
      "2017 10\n",
      "2017 11\n",
      "2017 12\n",
      "2018 1\n",
      "2018 2\n",
      "2018 3\n",
      "2018 4\n",
      "2018 5\n",
      "2018 6\n",
      "2018 7\n",
      "2018 8\n",
      "2018 9\n",
      "2018 10\n",
      "2018 11\n",
      "2018 12\n",
      "2019 1\n",
      "2019 2\n",
      "2019 3\n",
      "2019 4\n",
      "2019 5\n",
      "2019 6\n",
      "2019 7\n",
      "2019 8\n",
      "2019 9\n",
      "2019 10\n",
      "2019 11\n",
      "2019 12\n",
      "2020 1\n",
      "2020 2\n",
      "2020 3\n",
      "2020 4\n",
      "2020 5\n",
      "2020 6\n",
      "2020 7\n",
      "2020 8\n",
      "2020 9\n",
      "2020 10\n",
      "2020 11\n",
      "2020 12\n"
     ]
    }
   ],
   "source": [
    "for year in np.arange(2010,2021):\n",
    "    for month in np.arange(1,13):\n",
    "        print(year,month)\n",
    "        ds_2d_6h_nat[['10u','10v']].sel(time='%.4i-%.2i' % (year,month)).resample(time='1D').mean('time').to_netcdf(\n",
    "            '/work/bk1377/b382473/native/IFS/OSTIA/wind/wind_10u_10v_%.4i-%.2i.nc' % (year,month)\n",
    "        )"
   ]
  },
  {
   "cell_type": "raw",
   "id": "815984c5-cec0-46f0-94a8-b29033caf87a",
   "metadata": {
    "tags": []
   },
   "source": [
    "ds_2d_6h_nat = ds_2d_6h_nat.sel(time=ds_2d_6h_nat['time.hour']==12)\n",
    "ds_2d_6h_025 = ds_2d_6h_025.sel(time=ds_2d_6h_025['time.hour']==12)"
   ]
  },
  {
   "cell_type": "markdown",
   "id": "692e1079-3f59-40ad-837e-7cdc3a1dc40d",
   "metadata": {},
   "source": [
    "## Load SST gradients"
   ]
  },
  {
   "cell_type": "code",
   "execution_count": 9,
   "id": "5c869955-d828-40e8-ba21-afb8cb34453f",
   "metadata": {
    "tags": []
   },
   "outputs": [],
   "source": [
    "obs = intake.open_catalog('https://raw.githubusercontent.com/eerie-project/intake_catalogues/main/eerie.yaml')\\\n",
    "                          ['dkrz']['disk']['observations']"
   ]
  },
  {
   "cell_type": "code",
   "execution_count": 10,
   "id": "18eacb55-8537-49b2-b095-37045b33701c",
   "metadata": {
    "tags": []
   },
   "outputs": [],
   "source": [
    "if run == 'amip-hist-obs':\n",
    "    # SST gradients on raw dataset\n",
    "    ostia_SSTgrad = obs['OSTIA']['OSTIA']['SSTgrad_0_0'].to_dask()\n",
    "\n",
    "elif run == 'amip-hist-obs-lr30':\n",
    "    # SST gradients, with climatology filtered with LR30\n",
    "    ostia_SSTgrad = obs['OSTIA']['OSTIA']['SSTgrad_LR30_0'].to_dask()\n",
    "\n",
    "elif run == 'amip-hist-obs-c-lr30-a-0':\n",
    "    # SST gradients, with anomalies filtered with LR30\n",
    "    ostia_SSTgrad = obs['OSTIA']['OSTIA']['SSTgrad_0_LR30'].to_dask()\n",
    "\n",
    "elif run == 'amip-hist-obs-c-lr30-a-lr30':\n",
    "    # SST gradients, with climatology and anomalies filtered with LR30\n",
    "    ostia_SSTgrad = obs['OSTIA']['OSTIA']['SSTgrad_LR30_LR30'].to_dask()"
   ]
  },
  {
   "cell_type": "code",
   "execution_count": 11,
   "id": "a3a7214c-e300-433c-a747-f7f4b9810e7b",
   "metadata": {
    "tags": []
   },
   "outputs": [],
   "source": [
    "ostia_SSTgrad = ostia_SSTgrad.rename({'values':'value'})"
   ]
  },
  {
   "cell_type": "markdown",
   "id": "599631b5-8883-4f65-b139-85c4777437f3",
   "metadata": {},
   "source": [
    "# downwind SST gradient (winds) vs wind divergence\n",
    "1. Compute downwind & cross-wind SST gradients\n",
    "2. Compute near-surface wind divergence on native grid\n",
    "3. Remap onto regular 0.25deg grid\n",
    "4. Perform 30-day running mean on 0.25deg grid files\n",
    "5. Spatially high-pass 30-day running mean\n",
    "6. Compute coupling coefficients"
   ]
  },
  {
   "cell_type": "markdown",
   "id": "7d59cf60-d802-4ee9-b4ba-46cf6319dcec",
   "metadata": {
    "tags": []
   },
   "source": [
    "## 1. Compute downwind & cross-wind SST gradients"
   ]
  },
  {
   "cell_type": "code",
   "execution_count": 13,
   "id": "d697e7b1-e31c-4179-9f5e-fdb4333181c3",
   "metadata": {
    "tags": []
   },
   "outputs": [],
   "source": [
    "def get_downT_crossT(tauu,tauv,dTdx,dTdy):\n",
    "    #Compute downwind and crosswind SST gradients\n",
    "    mtau=np.sqrt(tauu*tauu + tauv*tauv)\n",
    "    cosphi=tauu/mtau\n",
    "    sinphi=tauv/mtau\n",
    "    print('wspd=',np.shape(mtau))\n",
    "    print('cosphi=',np.shape(cosphi))\n",
    "    print('sinphi=',np.shape(sinphi))\n",
    "    del(mtau)\n",
    "\n",
    "    downT=(cosphi*dTdx.squeeze()+sinphi*dTdy.squeeze()).rename('downT')\n",
    "    crossT=(sinphi*dTdx.squeeze()-cosphi*dTdy.squeeze()).rename('crossT')\n",
    "    \n",
    "    return downT, crossT"
   ]
  },
  {
   "cell_type": "code",
   "execution_count": 14,
   "id": "42859d93-50e0-488d-97bf-f2374ed98dc1",
   "metadata": {
    "tags": []
   },
   "outputs": [
    {
     "name": "stdout",
     "output_type": "stream",
     "text": [
      "wspd= (365, 654400)\n",
      "cosphi= (365, 654400)\n",
      "sinphi= (365, 654400)\n"
     ]
    }
   ],
   "source": [
    "windgrads = xr.merge(\n",
    "    # get_downT_crossT(ds_2d_6h_nat['ewss'],ds_2d_6h_nat['nsss'],ostia_SSTgrad['dTdx'],ostia_SSTgrad['dTdy'])\n",
    "    get_downT_crossT(ds_2d_6h_nat['ewss'].sel(time='2010'),ds_2d_6h_nat['nsss'],ostia_SSTgrad['dTdx'],ostia_SSTgrad['dTdy'])\n",
    ")"
   ]
  },
  {
   "cell_type": "code",
   "execution_count": 117,
   "id": "df459dff-811a-4f0d-a9b0-e7e55d49f118",
   "metadata": {
    "tags": []
   },
   "outputs": [
    {
     "name": "stdout",
     "output_type": "stream",
     "text": [
      "[########################################] | 100% Completed | 8.48 ss\n"
     ]
    }
   ],
   "source": [
    "with ProgressBar():\n",
    "    windgrads.load()"
   ]
  },
  {
   "cell_type": "code",
   "execution_count": 34,
   "id": "f72a3309-1020-4622-8718-6af92134c888",
   "metadata": {
    "tags": []
   },
   "outputs": [
    {
     "name": "stdout",
     "output_type": "stream",
     "text": [
      "2010\n",
      "wspd= (365, 654400)\n",
      "cosphi= (365, 654400)\n",
      "sinphi= (365, 654400)\n",
      "[########################################] | 100% Completed | 11.56 s\n",
      "2011\n",
      "wspd= (365, 654400)\n",
      "cosphi= (365, 654400)\n",
      "sinphi= (365, 654400)\n",
      "[########################################] | 100% Completed | 10.69 ss\n",
      "2012\n",
      "wspd= (366, 654400)\n",
      "cosphi= (366, 654400)\n",
      "sinphi= (366, 654400)\n",
      "[########################################] | 100% Completed | 13.03 ss\n",
      "2013\n",
      "wspd= (365, 654400)\n",
      "cosphi= (365, 654400)\n",
      "sinphi= (365, 654400)\n",
      "[########################################] | 100% Completed | 12.67 ss\n",
      "2014\n",
      "wspd= (365, 654400)\n",
      "cosphi= (365, 654400)\n",
      "sinphi= (365, 654400)\n",
      "[########################################] | 100% Completed | 16.34 ss\n",
      "2015\n",
      "wspd= (365, 654400)\n",
      "cosphi= (365, 654400)\n",
      "sinphi= (365, 654400)\n",
      "[########################################] | 100% Completed | 17.80 ss\n",
      "2016\n",
      "wspd= (366, 654400)\n",
      "cosphi= (366, 654400)\n",
      "sinphi= (366, 654400)\n",
      "[########################################] | 100% Completed | 14.78 s\n",
      "2017\n",
      "wspd= (365, 654400)\n",
      "cosphi= (365, 654400)\n",
      "sinphi= (365, 654400)\n",
      "[########################################] | 100% Completed | 12.29 ss\n",
      "2018\n",
      "wspd= (365, 654400)\n",
      "cosphi= (365, 654400)\n",
      "sinphi= (365, 654400)\n",
      "[########################################] | 100% Completed | 13.93 s\n",
      "2019\n",
      "wspd= (365, 654400)\n",
      "cosphi= (365, 654400)\n",
      "sinphi= (365, 654400)\n",
      "[########################################] | 100% Completed | 13.49 ss\n",
      "2020\n",
      "wspd= (366, 654400)\n",
      "cosphi= (366, 654400)\n",
      "sinphi= (366, 654400)\n",
      "[########################################] | 100% Completed | 15.04 ss\n"
     ]
    }
   ],
   "source": [
    "for year in np.unique(ds_2d_6h_nat['time.year'].values):\n",
    "    print(year)\n",
    "    SSTgradsi = xr.merge(\n",
    "        get_downT_crossT(ds_2d_6h_nat['ewss'].sel(time='%i' % year),ds_2d_6h_nat['nsss'].sel(time='%i' % year),ostia_SSTgrad['dTdx'].sel(time='%i' % year),ostia_SSTgrad['dTdy'].sel(time='%i' % year))\n",
    "    )\n",
    "    with ProgressBar():\n",
    "        SSTgradsi.to_netcdf('/work/bk1377/b382473/native/IFS/OSTIA/SSTgrads_wind/SSTgradsi_%.4i.nc' % year)"
   ]
  },
  {
   "cell_type": "markdown",
   "id": "546be3a2-4367-4b1d-91b8-de0a824f7673",
   "metadata": {
    "tags": []
   },
   "source": [
    "## 2. Compute near-surface wind divergence on native grid"
   ]
  },
  {
   "cell_type": "raw",
   "id": "43cc1e63-5198-4fd3-9c8e-4e92783f4307",
   "metadata": {},
   "source": [
    "Instructions: https://github.com/eerie-project/EERIE_hackathon_2023/blob/main/pre-joint-hackathon-2024/mesoscale-air-sea-coupling/IFS-FESOM/README.md\n",
    "See here: 1) Extract and compute daily quantities\n",
    "Using: https://github.com/eerie-project/EERIE_hackathon_2023/blob/main/pre-joint-hackathon-2024/mesoscale-air-sea-coupling/IFS-FESOM/wind_10u_10v_.job"
   ]
  },
  {
   "cell_type": "markdown",
   "id": "d233ffe4-4f45-42ab-9bc8-1ad22929cf07",
   "metadata": {},
   "source": [
    "## 3. Remap onto regular 0.25deg grid"
   ]
  },
  {
   "cell_type": "markdown",
   "id": "fbc9cd38-1548-446e-9159-4225d7d7a250",
   "metadata": {},
   "source": [
    "### wind divergence"
   ]
  },
  {
   "cell_type": "raw",
   "id": "9dea46ba-89f8-4dbc-add7-b63d58077ca2",
   "metadata": {},
   "source": [
    "Instructions: https://github.com/eerie-project/EERIE_hackathon_2023/blob/main/pre-joint-hackathon-2024/mesoscale-air-sea-coupling/IFS-FESOM/README.md\n",
    "See here: 1) Extract and compute daily quantities\n",
    "Using: https://github.com/eerie-project/EERIE_hackathon_2023/blob/main/pre-joint-hackathon-2024/mesoscale-air-sea-coupling/IFS-FESOM/remap_yrmth_IFStco399_IFS25.job"
   ]
  },
  {
   "cell_type": "markdown",
   "id": "4176e1be-3b1b-4d9b-8a1e-a58026b446c3",
   "metadata": {},
   "source": [
    "### SST gradients"
   ]
  },
  {
   "cell_type": "raw",
   "id": "8eed4c29-31b5-4dbb-8cfe-19233ecfcc4c",
   "metadata": {},
   "source": [
    "Instructions: https://github.com/eerie-project/EERIE_hackathon_2023/blob/main/pre-joint-hackathon-2024/mesoscale-air-sea-coupling/IFS-FESOM/README.md\n",
    "See here: 1) Extract and compute daily quantities\n",
    "Using: remap_SSTgrad_yrmth_IFStco399_IFS25.job"
   ]
  },
  {
   "cell_type": "markdown",
   "id": "6c4ed739-09b3-4f7a-b705-d46b85128a53",
   "metadata": {},
   "source": [
    "## 4. Perform 30-day running mean on 0.25deg grid files"
   ]
  },
  {
   "cell_type": "markdown",
   "id": "d099d9bd-d4cc-4674-ad5e-e920845d126b",
   "metadata": {},
   "source": [
    "### 4.2 Load 0.25 degree SST gradients"
   ]
  },
  {
   "cell_type": "code",
   "execution_count": 7,
   "id": "87523309-c150-483d-b134-9a80464b0ef3",
   "metadata": {
    "tags": []
   },
   "outputs": [],
   "source": [
    "SSTgrads_025 = xr.open_mfdataset('/work/bk1377/b382473/reg25/ifsamip/OSTIA/SSTgrads_wind/SSTgradsi_*.nc',concat_dim='time',combine='nested')"
   ]
  },
  {
   "cell_type": "markdown",
   "id": "e1362857-1313-4184-a1d6-f03c095d919a",
   "metadata": {},
   "source": [
    "### 4.1 Load wind divergence"
   ]
  },
  {
   "cell_type": "code",
   "execution_count": 8,
   "id": "8725f963-ee73-4c4e-822a-5d3e4ed43c54",
   "metadata": {
    "tags": []
   },
   "outputs": [],
   "source": [
    "winddiv = xr.open_mfdataset('/work/bk1377/b382473/reg25/ifsamip/OSTIA/winddiv/OSTIA_winddiv_??????_IFS25.nc',concat_dim='time',combine='nested')['winddiv']"
   ]
  },
  {
   "cell_type": "markdown",
   "id": "1f6f2bc6-26d5-41a3-8c33-905a27672254",
   "metadata": {},
   "source": [
    "### 4.2 Compute 30-day running mean of downwind SST gradients and surface wind divergence"
   ]
  },
  {
   "cell_type": "code",
   "execution_count": 9,
   "id": "7adfe541-cb3f-46b1-b87a-846801288ce5",
   "metadata": {
    "tags": []
   },
   "outputs": [],
   "source": [
    "winddiv_30d = winddiv.rolling(time=30,center=True).mean()"
   ]
  },
  {
   "cell_type": "code",
   "execution_count": 10,
   "id": "55e2d6f0-553c-4b22-925d-17f29c2b6829",
   "metadata": {
    "tags": []
   },
   "outputs": [],
   "source": [
    "downT_30d = SSTgrads_025['downT'].rolling(time=30,center=True).mean()"
   ]
  },
  {
   "cell_type": "code",
   "execution_count": 11,
   "id": "ad395509-814b-47f0-99ab-a06dff190cc2",
   "metadata": {
    "tags": []
   },
   "outputs": [
    {
     "name": "stdout",
     "output_type": "stream",
     "text": [
      "2010\n",
      "[########################################] | 100% Completed | 11.15 ss\n",
      "[########################################] | 100% Completed | 14.62 ss\n",
      "2011\n",
      "[########################################] | 100% Completed | 13.82 s\n",
      "[########################################] | 100% Completed | 26.45 s\n",
      "2012\n",
      "[########################################] | 100% Completed | 12.75 ss\n",
      "[########################################] | 100% Completed | 25.72 s\n",
      "2013\n",
      "[########################################] | 100% Completed | 16.86 s\n",
      "[########################################] | 100% Completed | 24.70 s\n",
      "2014\n",
      "[########################################] | 100% Completed | 13.00 s\n",
      "[########################################] | 100% Completed | 25.27 s\n",
      "2015\n",
      "[########################################] | 100% Completed | 12.28 ss\n",
      "[########################################] | 100% Completed | 27.42 s\n",
      "2016\n",
      "[########################################] | 100% Completed | 14.23 ss\n",
      "[########################################] | 100% Completed | 25.61 s\n",
      "2017\n",
      "[########################################] | 100% Completed | 13.23 s\n",
      "[########################################] | 100% Completed | 25.73 s\n",
      "2018\n",
      "[########################################] | 100% Completed | 13.21 ss\n",
      "[########################################] | 100% Completed | 26.41 s\n",
      "2019\n",
      "[########################################] | 100% Completed | 12.72 s\n",
      "[########################################] | 100% Completed | 26.69 s\n"
     ]
    }
   ],
   "source": [
    "for year in np.arange(2010,2020):\n",
    "    print(year)\n",
    "    winddiv_30di = winddiv_30d.sel(time=str(year))\n",
    "    with ProgressBar():\n",
    "        winddiv_30di.load()\n",
    "    winddiv_30di.to_netcdf('/work/bk1377/b382473/reg25/ifsamip/OSTIA/mean_30d/winddiv_30d_%.4i.nc' % year)\n",
    "\n",
    "    downT_30di = downT_30d.sel(time=str(year))\n",
    "    with ProgressBar():\n",
    "        downT_30di.load()\n",
    "    downT_30di.to_netcdf('/work/bk1377/b382473/reg25/ifsamip/OSTIA/mean_30d/downT_30d_%.4i.nc' % year)"
   ]
  },
  {
   "cell_type": "markdown",
   "id": "3f2bcc78-fb61-40a3-b18b-1d795600de8d",
   "metadata": {},
   "source": [
    "## 5. Spatially low-pass 30-day running mean"
   ]
  },
  {
   "cell_type": "markdown",
   "id": "1733e02f-d64e-4e50-b985-61d4fb42d849",
   "metadata": {},
   "source": [
    "Use (in EERIE_hackathon_2023/pre-joint-hackathon-2024/mesoscale-air-sea-coupling/IFS-FESOM):\n",
    "- compute_filter_year_month.py\n",
    "- compute_filter_year_month.job\n",
    "- submit_filter_year_month.sh\n",
    "\n",
    "to spatially low-pass filter SST, downwind SST gradient, surface wind speed and surface wind divergence\n",
    "using gcm-filters (Gaussian filter, 30 x Rossby radius, 300-1500 km)\n",
    "\n",
    "Output currently written to \n",
    "/work/bk1377/b382473/reg25/ifsamip/OSTIA/mean_30d_filtered/"
   ]
  },
  {
   "cell_type": "markdown",
   "id": "1f389f57-6d3e-4443-ab8d-bd2bc6eab1b5",
   "metadata": {},
   "source": [
    "## 6. Compute coupling coefficients: See \"Coupling\" section"
   ]
  },
  {
   "cell_type": "code",
   "execution_count": null,
   "id": "5a21197b-334e-4bb7-9df6-d570ddb35790",
   "metadata": {},
   "outputs": [],
   "source": []
  },
  {
   "cell_type": "code",
   "execution_count": null,
   "id": "05c5b234-cfce-4119-afc5-7267494f8c64",
   "metadata": {},
   "outputs": [],
   "source": []
  },
  {
   "cell_type": "markdown",
   "id": "66de8d79-911c-4ee1-9be3-f90d073e3c60",
   "metadata": {},
   "source": [
    "# SST vs wind/stress magnitude"
   ]
  },
  {
   "cell_type": "markdown",
   "id": "e2fa6982-5a8b-4fab-b23d-74c18b4581bd",
   "metadata": {},
   "source": [
    "## 1. compute wind speed magnitude and compute daily mean (based on 6-hourly snapshots)\n",
    "For SST, simply select the midnight snapshot: IFS-AMIP has to diurnal cycle of foundation SST"
   ]
  },
  {
   "cell_type": "code",
   "execution_count": 9,
   "id": "1cc9e696-cb4d-4b10-8a0d-c599dd2f4408",
   "metadata": {},
   "outputs": [],
   "source": [
    "speed = ((ds_2d_6h_025[['10u','10v']]**2).to_array().sum('variable')**0.5).resample(time='1D').mean()"
   ]
  },
  {
   "cell_type": "code",
   "execution_count": 10,
   "id": "c0cf791e-9513-434b-9262-fbfce8ee1af9",
   "metadata": {
    "tags": []
   },
   "outputs": [],
   "source": [
    "sst = ds_2d_6h_025['sst'].sel(time=(ds_2d_6h_025['time.hour']==0))"
   ]
  },
  {
   "cell_type": "markdown",
   "id": "768c85e0-a075-4d61-81bb-84d5748d01b3",
   "metadata": {},
   "source": [
    "## 30-day running mean of SST and surface wind speed"
   ]
  },
  {
   "cell_type": "code",
   "execution_count": 11,
   "id": "399ef2f8-781c-4cd8-8363-006fe9997c0e",
   "metadata": {
    "tags": []
   },
   "outputs": [],
   "source": [
    "speed_30d = speed.rolling(time=30,center=True).mean().rename('10si')\n",
    "sst_30d = sst.rolling(time=30,center=True).mean()"
   ]
  },
  {
   "cell_type": "code",
   "execution_count": 12,
   "id": "b1d9da01-c720-462b-9255-7dbb11c63190",
   "metadata": {
    "tags": []
   },
   "outputs": [],
   "source": [
    "sst_30d['lon'].attrs['long_name'] = 'longitude'\n",
    "sst_30d['lon'].attrs['standard_name'] = 'longitude'\n",
    "sst_30d['lon'].attrs['units'] = 'degrees_east'"
   ]
  },
  {
   "cell_type": "code",
   "execution_count": 13,
   "id": "f3039757-636b-49d7-b699-0800b6bc03eb",
   "metadata": {
    "tags": []
   },
   "outputs": [
    {
     "name": "stdout",
     "output_type": "stream",
     "text": [
      "2010\n",
      "[########################################] | 100% Completed | 61.66 s\n",
      "[########################################] | 100% Completed | 16.72 ss\n",
      "2011\n",
      "[########################################] | 100% Completed | 66.22 s\n",
      "[########################################] | 100% Completed | 18.43 ss\n",
      "2012\n",
      "[########################################] | 100% Completed | 67.46 s\n",
      "[########################################] | 100% Completed | 18.04 ss\n",
      "2013\n",
      "[########################################] | 100% Completed | 67.61 s\n",
      "[########################################] | 100% Completed | 18.53 ss\n",
      "2014\n",
      "[########################################] | 100% Completed | 66.98 s\n",
      "[########################################] | 100% Completed | 16.62 ss\n",
      "2015\n",
      "[########################################] | 100% Completed | 72.42 s\n",
      "[########################################] | 100% Completed | 20.36 ss\n",
      "2016\n",
      "[########################################] | 100% Completed | 67.24 s\n",
      "[########################################] | 100% Completed | 17.41 ss\n",
      "2017\n",
      "[########################################] | 100% Completed | 66.18 s\n",
      "[########################################] | 100% Completed | 16.19 ss\n",
      "2018\n",
      "[########################################] | 100% Completed | 66.90 s\n",
      "[########################################] | 100% Completed | 18.21 ss\n",
      "2019\n",
      "[########################################] | 100% Completed | 68.10 s\n",
      "[########################################] | 100% Completed | 18.32 ss\n"
     ]
    }
   ],
   "source": [
    "for year in np.arange(2010,2021):\n",
    "    print(year)\n",
    "    speed_30di = speed_30d.sel(time=str(year))\n",
    "    with ProgressBar():\n",
    "        speed_30di.load()\n",
    "    speed_30di.to_netcdf('/work/bk1377/b382473/reg25/ifsamip/OSTIA/mean_30d/speed_30d_%.4i.nc' % year)\n",
    "    sst_30di = sst_30d.sel(time=str(year))\n",
    "    with ProgressBar():\n",
    "        sst_30di.load()\n",
    "    sst_30di.to_netcdf('/work/bk1377/b382473/reg25/ifsamip/OSTIA/mean_30d/sst_30d_%.4i.nc' % year)"
   ]
  },
  {
   "cell_type": "markdown",
   "id": "cabc5653-60bc-49e0-9c84-0696345a2f20",
   "metadata": {},
   "source": [
    "## 5. Spatially low-pass 30-day running mean"
   ]
  },
  {
   "cell_type": "markdown",
   "id": "29ea865e-e716-4648-9941-5b5d583f262a",
   "metadata": {},
   "source": [
    "Use (in EERIE_hackathon_2023/pre-joint-hackathon-2024/mesoscale-air-sea-coupling/IFS-FESOM):\n",
    "- compute_filter_year_month.py\n",
    "- compute_filter_year_month.job\n",
    "- submit_filter_year_month.sh\n",
    "\n",
    "to spatially low-pass filter SST, downwind SST gradient, surface wind speed and surface wind divergence\n",
    "using gcm-filters (Gaussian filter, 30 x Rossby radius, 300-1500 km)\n",
    "\n",
    "Output currently written to \n",
    "/work/bk1377/b382473/reg25/ifsamip/OSTIA/mean_30d_filtered/"
   ]
  },
  {
   "cell_type": "markdown",
   "id": "1706c7f2-6dfc-4b3e-a406-8a30f69262aa",
   "metadata": {},
   "source": [
    "## 6. Compute coupling coefficients: See \"Coupling\" section"
   ]
  },
  {
   "cell_type": "code",
   "execution_count": null,
   "id": "431146f5-2261-4906-bac7-2a4f9003faac",
   "metadata": {},
   "outputs": [],
   "source": []
  },
  {
   "cell_type": "markdown",
   "id": "857b8068-e575-496a-bf98-1cbc8bb207a2",
   "metadata": {},
   "source": [
    "# Coupling\n",
    "Compute coupling coefficients using pre-computed 30-day running mean daily mean fields, raw, low-pass and high-pass filtered.\n",
    "\n",
    "\"Coupling coefficients\" here only mean a simple Pearson correlation coefficient over the whole 10-year timeseries at daily resolution."
   ]
  },
  {
   "cell_type": "markdown",
   "id": "a0132a7b-49c6-4fe5-b342-01c4e7962b4f",
   "metadata": {},
   "source": [
    "## SST and wind speed"
   ]
  },
  {
   "cell_type": "markdown",
   "id": "6a859816-488f-4af5-ae82-6bfcc8f6b830",
   "metadata": {},
   "source": [
    "### load 30-day running means"
   ]
  },
  {
   "cell_type": "code",
   "execution_count": 8,
   "id": "a20e0a05-d285-4d87-9f48-647fdcf8cb2d",
   "metadata": {
    "tags": []
   },
   "outputs": [],
   "source": [
    "speed_30d = xr.open_mfdataset('/work/bk1377/b382473/reg25/ifsamip/OSTIA/mean_30d/speed_30d_????.nc')['10si'].chunk({'lat':721//4,'lon':1440//4})\n",
    "sst_30d = xr.open_mfdataset('/work/bk1377/b382473/reg25/ifsamip/OSTIA/mean_30d/sst_30d_????.nc')['sst'].chunk({'lat':721//4,'lon':1440//4})"
   ]
  },
  {
   "cell_type": "markdown",
   "id": "38a9d729-428c-4e37-9494-a6fa18e7e18b",
   "metadata": {},
   "source": [
    "### load low-pass filteterd 30-day running means"
   ]
  },
  {
   "cell_type": "code",
   "execution_count": 20,
   "id": "e2d2c234-3dc6-4991-9061-c93518e97aaa",
   "metadata": {
    "tags": []
   },
   "outputs": [],
   "source": [
    "speed_30d_lp = xr.open_mfdataset('/work/bk1377/b382473/reg25/ifsamip/OSTIA/mean_30d_filtered/speed_30d_????-??.nc')['10si'].chunk({'lat':721//4,'lon':1440//4})\n",
    "sst_30d_lp = xr.open_mfdataset('/work/bk1377/b382473/reg25/ifsamip/OSTIA/mean_30d_filtered/sst_30d_????-??.nc')['sst'].chunk({'lat':721//4,'lon':1440//4})"
   ]
  },
  {
   "cell_type": "markdown",
   "id": "4015ca9c-3f49-4e11-8238-a794119cc35e",
   "metadata": {},
   "source": [
    "### compute high-pass filteterd 30-day running means"
   ]
  },
  {
   "cell_type": "code",
   "execution_count": 10,
   "id": "27a1f69a-84a4-47d1-af7c-e03a47a8e757",
   "metadata": {
    "tags": []
   },
   "outputs": [],
   "source": [
    "speed_30d_hp = speed_30d - speed_30d_lp\n",
    "sst_30d_hp = sst_30d - sst_30d_lp"
   ]
  },
  {
   "cell_type": "code",
   "execution_count": 11,
   "id": "769b8aa8-3340-4273-a617-94810b1f6383",
   "metadata": {
    "tags": []
   },
   "outputs": [],
   "source": [
    "corr_sst_speed = xr.corr(sst_30d_hp,speed_30d_hp,'time')\n",
    "# corr_sst_speed = xr.corr(sst_30d_hp.sel(time=slice('2017','2019')),speed_30d_hp.sel(time=slice('2017','2019')),'time')"
   ]
  },
  {
   "cell_type": "code",
   "execution_count": 12,
   "id": "8430703c-d5f3-49e8-95e5-8b52c8afbc2e",
   "metadata": {
    "tags": []
   },
   "outputs": [
    {
     "name": "stdout",
     "output_type": "stream",
     "text": [
      "[################################        ] | 82% Completed | 285.41 s"
     ]
    },
    {
     "name": "stderr",
     "output_type": "stream",
     "text": [
      "/work/bk1377/b382473/conda/envs/science39/lib/python3.9/site-packages/dask/array/numpy_compat.py:51: RuntimeWarning: invalid value encountered in divide\n",
      "  x = np.divide(x1, x2, out)\n"
     ]
    },
    {
     "name": "stdout",
     "output_type": "stream",
     "text": [
      "[########################################] | 100% Completed | 299.06 s\n"
     ]
    }
   ],
   "source": [
    "with ProgressBar():\n",
    "    corr_sst_speed.load()"
   ]
  },
  {
   "cell_type": "code",
   "execution_count": 13,
   "id": "45a450b5-4abe-4f31-a4a2-6affabfb7421",
   "metadata": {
    "tags": []
   },
   "outputs": [],
   "source": [
    "corr_sst_speed.rename('corr_sst_speed').to_netcdf('corr_sst_speed.nc')"
   ]
  },
  {
   "cell_type": "code",
   "execution_count": 9,
   "id": "f57929b6-71ee-4bce-9c51-0cfb9c756fae",
   "metadata": {
    "tags": []
   },
   "outputs": [],
   "source": [
    "corr_sst_speed_full = xr.corr(sst_30d,speed_30d,'time')\n",
    "# corr_sst_speed_full = xr.corr(sst_30d.sel(time=slice('2017','2019')),speed_30d.sel(time=slice('2017','2019')),'time')"
   ]
  },
  {
   "cell_type": "code",
   "execution_count": 10,
   "id": "90eeff40-bdce-402d-bc95-bb452ed744c8",
   "metadata": {
    "tags": []
   },
   "outputs": [
    {
     "name": "stdout",
     "output_type": "stream",
     "text": [
      "[##############################          ] | 76% Completed | 95.36 ss"
     ]
    },
    {
     "name": "stderr",
     "output_type": "stream",
     "text": [
      "/work/bk1377/b382473/conda/envs/science39/lib/python3.9/site-packages/dask/array/numpy_compat.py:51: RuntimeWarning: invalid value encountered in divide\n",
      "  x = np.divide(x1, x2, out)\n"
     ]
    },
    {
     "name": "stdout",
     "output_type": "stream",
     "text": [
      "[######################################  ] | 96% Completed | 116.10 s"
     ]
    },
    {
     "name": "stderr",
     "output_type": "stream",
     "text": [
      "/work/bk1377/b382473/conda/envs/science39/lib/python3.9/site-packages/dask/core.py:127: RuntimeWarning: invalid value encountered in divide\n",
      "  return func(*(_execute_task(a, cache) for a in args))\n"
     ]
    },
    {
     "name": "stdout",
     "output_type": "stream",
     "text": [
      "[########################################] | 100% Completed | 117.41 s\n"
     ]
    }
   ],
   "source": [
    "with ProgressBar():\n",
    "    corr_sst_speed_full.load()"
   ]
  },
  {
   "cell_type": "code",
   "execution_count": 11,
   "id": "8d48cf3e-532d-48aa-8a25-d48f348216ca",
   "metadata": {
    "tags": []
   },
   "outputs": [],
   "source": [
    "corr_sst_speed_full.rename('corr_sst_speed_full').to_netcdf('corr_sst_speed_full.nc')"
   ]
  },
  {
   "cell_type": "code",
   "execution_count": 21,
   "id": "477a9a37-37db-4dab-bae9-2d706ad08a8b",
   "metadata": {
    "tags": []
   },
   "outputs": [],
   "source": [
    "corr_sst_speed_lp = xr.corr(sst_30d_lp,speed_30d_lp,'time')\n",
    "# corr_sst_speed_lp = xr.corr(sst_30d_lp.sel(time=slice('2017','2019')),speed_30d_lp.sel(time=slice('2017','2019')),'time')"
   ]
  },
  {
   "cell_type": "code",
   "execution_count": 22,
   "id": "7722189d-28cf-429b-96b8-198d72f372bd",
   "metadata": {
    "tags": []
   },
   "outputs": [
    {
     "name": "stdout",
     "output_type": "stream",
     "text": [
      "[#############################           ] | 74% Completed | 85.70 ss"
     ]
    },
    {
     "name": "stderr",
     "output_type": "stream",
     "text": [
      "/work/bk1377/b382473/conda/envs/science39/lib/python3.9/site-packages/dask/array/numpy_compat.py:51: RuntimeWarning: invalid value encountered in divide\n",
      "  x = np.divide(x1, x2, out)\n"
     ]
    },
    {
     "name": "stdout",
     "output_type": "stream",
     "text": [
      "[########################################] | 100% Completed | 95.42 s\n"
     ]
    }
   ],
   "source": [
    "with ProgressBar():\n",
    "    corr_sst_speed_lp.load()"
   ]
  },
  {
   "cell_type": "code",
   "execution_count": 24,
   "id": "2c7d39fe-af22-4878-ae10-a1c4bb58008d",
   "metadata": {
    "tags": []
   },
   "outputs": [],
   "source": [
    "corr_sst_speed_lp.rename('corr_sst_speed_lp').to_netcdf('corr_sst_speed_lp.nc')"
   ]
  },
  {
   "cell_type": "markdown",
   "id": "e9f2efc0-b008-4f90-ae7b-b794dcfe26bf",
   "metadata": {},
   "source": [
    "## downwind SST gradient and wind divergence"
   ]
  },
  {
   "cell_type": "markdown",
   "id": "692a46ad-7d5e-4f87-89e8-9bddd83d424a",
   "metadata": {},
   "source": [
    "### load 30-day running means"
   ]
  },
  {
   "cell_type": "code",
   "execution_count": 6,
   "id": "180e58e4-1152-424c-83f3-8b6173b20de9",
   "metadata": {
    "tags": []
   },
   "outputs": [],
   "source": [
    "downT_30d = xr.open_mfdataset('/work/bk1377/b382473/reg25/ifsamip/OSTIA/mean_30d/downT_30d_????.nc')['downT'].chunk({'lat':721//4,'lon':1440//4}).assign_coords(time=pd.date_range('2010-01-01','2019-12-31'))\n",
    "winddiv_30d = xr.open_mfdataset('/work/bk1377/b382473/reg25/ifsamip/OSTIA/mean_30d/winddiv_30d_????.nc')['winddiv'].chunk({'lat':721//4,'lon':1440//4})"
   ]
  },
  {
   "cell_type": "markdown",
   "id": "bd49157f-0258-4e93-a673-4b8aaf202986",
   "metadata": {},
   "source": [
    "### load low-pass filteterd 30-day running means"
   ]
  },
  {
   "cell_type": "code",
   "execution_count": 12,
   "id": "4461d77c-21ef-4094-b02e-abd9591118d9",
   "metadata": {
    "tags": []
   },
   "outputs": [],
   "source": [
    "downT_30d_lp = xr.open_mfdataset('/work/bk1377/b382473/reg25/ifsamip/OSTIA/mean_30d_filtered/downT_30d_????-??.nc')['downT'].chunk({'lat':721//4,'lon':1440//4}).assign_coords(time=pd.date_range('2010-01-01','2019-12-31'))\n",
    "winddiv_30d_lp = xr.open_mfdataset('/work/bk1377/b382473/reg25/ifsamip/OSTIA/mean_30d_filtered/winddiv_30d_????-??.nc')['winddiv'].chunk({'lat':721//4,'lon':1440//4})"
   ]
  },
  {
   "cell_type": "markdown",
   "id": "0bc1e333-20f6-45c8-81e7-d04720eecc09",
   "metadata": {},
   "source": [
    "### compute high-pass filteterd 30-day running means"
   ]
  },
  {
   "cell_type": "code",
   "execution_count": 16,
   "id": "6e03baa1-a419-4232-978b-203bf5d71688",
   "metadata": {
    "tags": []
   },
   "outputs": [],
   "source": [
    "downT_30d_hp = downT_30d - downT_30d_lp\n",
    "winddiv_30d_hp = winddiv_30d - winddiv_30d_lp"
   ]
  },
  {
   "cell_type": "code",
   "execution_count": 17,
   "id": "94545a2e-fe3d-4196-901b-c47cd49cbaa9",
   "metadata": {
    "tags": []
   },
   "outputs": [],
   "source": [
    "corr_downT_winddiv = xr.corr(downT_30d_hp,winddiv_30d_hp,'time')\n",
    "# corr_downT_winddiv = xr.corr(downT_30d_hp.sel(time=slice('2017','2019')),winddiv_30d_hp.sel(time=slice('2017','2019')),'time')"
   ]
  },
  {
   "cell_type": "code",
   "execution_count": 18,
   "id": "4d43336a-e55b-4993-9859-53d0c34ebef4",
   "metadata": {
    "tags": []
   },
   "outputs": [
    {
     "name": "stdout",
     "output_type": "stream",
     "text": [
      "[################################        ] | 81% Completed | 171.79 s"
     ]
    },
    {
     "name": "stderr",
     "output_type": "stream",
     "text": [
      "/work/bk1377/b382473/conda/envs/science39/lib/python3.9/site-packages/dask/array/numpy_compat.py:51: RuntimeWarning: invalid value encountered in divide\n",
      "  x = np.divide(x1, x2, out)\n"
     ]
    },
    {
     "name": "stdout",
     "output_type": "stream",
     "text": [
      "[###################################     ] | 89% Completed | 176.83 s"
     ]
    },
    {
     "name": "stderr",
     "output_type": "stream",
     "text": [
      "/work/bk1377/b382473/conda/envs/science39/lib/python3.9/site-packages/dask/core.py:127: RuntimeWarning: invalid value encountered in divide\n",
      "  return func(*(_execute_task(a, cache) for a in args))\n"
     ]
    },
    {
     "name": "stdout",
     "output_type": "stream",
     "text": [
      "[########################################] | 100% Completed | 182.01 s\n"
     ]
    }
   ],
   "source": [
    "with ProgressBar():\n",
    "    corr_downT_winddiv.load()"
   ]
  },
  {
   "cell_type": "code",
   "execution_count": 19,
   "id": "1c08e56a-9223-4a4f-a98a-f384962ae7c2",
   "metadata": {
    "tags": []
   },
   "outputs": [],
   "source": [
    "corr_downT_winddiv.rename('corr_downT_winddiv').to_netcdf('corr_downT_winddiv.nc')"
   ]
  },
  {
   "cell_type": "code",
   "execution_count": 7,
   "id": "39d69cb8-b6d4-4695-82a4-630e8f9b48e1",
   "metadata": {
    "tags": []
   },
   "outputs": [],
   "source": [
    "corr_downT_winddiv_full = xr.corr(downT_30d,winddiv_30d,'time')\n",
    "# corr_downT_winddiv_full = xr.corr(downT_30d.sel(time=slice('2017','2019')),winddiv_30d.sel(time=slice('2017','2019')),'time')"
   ]
  },
  {
   "cell_type": "code",
   "execution_count": 8,
   "id": "a484668a-74f0-49d3-ac36-cebd281a6505",
   "metadata": {
    "tags": []
   },
   "outputs": [
    {
     "name": "stdout",
     "output_type": "stream",
     "text": [
      "[###########################             ] | 68% Completed | 104.81 s"
     ]
    },
    {
     "name": "stderr",
     "output_type": "stream",
     "text": [
      "/work/bk1377/b382473/conda/envs/science39/lib/python3.9/site-packages/dask/array/numpy_compat.py:51: RuntimeWarning: invalid value encountered in divide\n",
      "  x = np.divide(x1, x2, out)\n"
     ]
    },
    {
     "name": "stdout",
     "output_type": "stream",
     "text": [
      "[############################            ] | 71% Completed | 105.15 s"
     ]
    },
    {
     "name": "stderr",
     "output_type": "stream",
     "text": [
      "/work/bk1377/b382473/conda/envs/science39/lib/python3.9/site-packages/dask/core.py:127: RuntimeWarning: invalid value encountered in divide\n",
      "  return func(*(_execute_task(a, cache) for a in args))\n"
     ]
    },
    {
     "name": "stdout",
     "output_type": "stream",
     "text": [
      "[########################################] | 100% Completed | 130.12 s\n"
     ]
    }
   ],
   "source": [
    "with ProgressBar():\n",
    "    corr_downT_winddiv_full.load()"
   ]
  },
  {
   "cell_type": "code",
   "execution_count": 9,
   "id": "bea91078-7091-4bd0-9375-3db700f60851",
   "metadata": {
    "tags": []
   },
   "outputs": [],
   "source": [
    "corr_downT_winddiv_full.rename('corr_downT_winddiv_full').to_netcdf('corr_downT_winddiv_full.nc')"
   ]
  },
  {
   "cell_type": "code",
   "execution_count": 13,
   "id": "7d35d1d6-5147-436e-8dc8-cbfeb45221c1",
   "metadata": {
    "tags": []
   },
   "outputs": [],
   "source": [
    "corr_downT_winddiv_lp = xr.corr(downT_30d_lp,winddiv_30d_lp,'time')\n",
    "# corr_downT_winddiv_lp = xr.corr(downT_30d_lp.sel(time=slice('2017','2019')),winddiv_30d_lp.sel(time=slice('2017','2019')),'time')"
   ]
  },
  {
   "cell_type": "code",
   "execution_count": 14,
   "id": "c0e5db40-7043-4321-b26c-e90bc2df9016",
   "metadata": {
    "tags": []
   },
   "outputs": [
    {
     "name": "stdout",
     "output_type": "stream",
     "text": [
      "[#############################           ] | 74% Completed | 81.02 ss"
     ]
    },
    {
     "name": "stderr",
     "output_type": "stream",
     "text": [
      "/work/bk1377/b382473/conda/envs/science39/lib/python3.9/site-packages/dask/array/numpy_compat.py:51: RuntimeWarning: invalid value encountered in divide\n",
      "  x = np.divide(x1, x2, out)\n"
     ]
    },
    {
     "name": "stdout",
     "output_type": "stream",
     "text": [
      "[###############################         ] | 79% Completed | 82.71 s"
     ]
    },
    {
     "name": "stderr",
     "output_type": "stream",
     "text": [
      "/work/bk1377/b382473/conda/envs/science39/lib/python3.9/site-packages/dask/core.py:127: RuntimeWarning: invalid value encountered in divide\n",
      "  return func(*(_execute_task(a, cache) for a in args))\n"
     ]
    },
    {
     "name": "stdout",
     "output_type": "stream",
     "text": [
      "[########################################] | 100% Completed | 89.39 s\n"
     ]
    }
   ],
   "source": [
    "with ProgressBar():\n",
    "    corr_downT_winddiv_lp.load()"
   ]
  },
  {
   "cell_type": "code",
   "execution_count": 15,
   "id": "b7291ca3-fee1-4a47-91a9-860396ae7db3",
   "metadata": {
    "tags": []
   },
   "outputs": [],
   "source": [
    "corr_downT_winddiv_lp.rename('corr_downT_winddiv_lp').to_netcdf('corr_downT_winddiv_lp.nc')"
   ]
  },
  {
   "cell_type": "code",
   "execution_count": null,
   "id": "e9bb41c2-976a-48bd-90fc-f47dde30b830",
   "metadata": {},
   "outputs": [],
   "source": []
  },
  {
   "cell_type": "code",
   "execution_count": null,
   "id": "e444d397-ea83-42e5-b194-d0151af1dfaa",
   "metadata": {},
   "outputs": [],
   "source": []
  }
 ],
 "metadata": {
  "kernelspec": {
   "display_name": "science39",
   "language": "python",
   "name": "science39"
  },
  "language_info": {
   "codemirror_mode": {
    "name": "ipython",
    "version": 3
   },
   "file_extension": ".py",
   "mimetype": "text/x-python",
   "name": "python",
   "nbconvert_exporter": "python",
   "pygments_lexer": "ipython3",
   "version": "3.9.18"
  }
 },
 "nbformat": 4,
 "nbformat_minor": 5
}
